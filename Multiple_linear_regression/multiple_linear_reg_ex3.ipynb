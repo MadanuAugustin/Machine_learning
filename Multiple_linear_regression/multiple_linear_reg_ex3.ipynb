{
 "cells": [
  {
   "cell_type": "code",
   "execution_count": 132,
   "id": "8a406a25-4113-4ff9-9a66-9a001c0d1b65",
   "metadata": {},
   "outputs": [
    {
     "data": {
      "text/plain": [
       "array([[78186.17460755],\n",
       "       [57496.5574222 ]])"
      ]
     },
     "execution_count": 132,
     "metadata": {},
     "output_type": "execute_result"
    }
   ],
   "source": [
    "# multiple linear regression ex_3\n",
    "\n",
    "# importing the libraries\n",
    "import pandas as pd\n",
    "import numpy as np\n",
    "import matplotlib.pyplot as plt\n",
    "from word2number import w2n\n",
    "from sklearn import preprocessing, linear_model, model_selection\n",
    "\n",
    "# loading the dataset\n",
    "mydata = pd.read_csv('hiring.csv')\n",
    "mydata\n",
    "\n",
    "# preprocessing the dataset\n",
    "mydata.experience.fillna(0, inplace = True)\n",
    "\n",
    "mydata['test_score(out of 10)'].fillna(mydata['test_score(out of 10)'].median(), inplace = True)\n",
    "mydata\n",
    "\n",
    "\n",
    "# checking the distribution of the data\n",
    "# plt.scatter(mydata['experience'], mydata['salary($)'])\n",
    "# plt.scatter(mydata['test_score(out of 10)'], mydata['salary($)'])\n",
    "# plt.scatter(mydata['interview_score(out of 10)'], mydata['salary($)'])\n",
    "\n",
    "# extracting the dependent variable and independent_variable\n",
    "dependent_variable = mydata.iloc[ : , 0:3]\n",
    "dependent_variable\n",
    "\n",
    "independent_variable = mydata.iloc[ : , 3:]\n",
    "independent_variable\n",
    "\n",
    "# splitting the data into training and testing data\n",
    "x_train, x_test, y_train, y_test = model_selection.train_test_split(dependent_variable, independent_variable)\n",
    "\n",
    "# creating the model\n",
    "myregobj = linear_model.LinearRegression()\n",
    "myregobj\n",
    "\n",
    "# training the model\n",
    "myregobj.fit(x_train, y_train)\n",
    "myregobj.predict(x_test)"
   ]
  },
  {
   "cell_type": "code",
   "execution_count": 138,
   "id": "491cb52b-3a80-468f-9b03-e33da3f884b6",
   "metadata": {},
   "outputs": [
    {
     "data": {
      "text/html": [
       "<div>\n",
       "<style scoped>\n",
       "    .dataframe tbody tr th:only-of-type {\n",
       "        vertical-align: middle;\n",
       "    }\n",
       "\n",
       "    .dataframe tbody tr th {\n",
       "        vertical-align: top;\n",
       "    }\n",
       "\n",
       "    .dataframe thead th {\n",
       "        text-align: right;\n",
       "    }\n",
       "</style>\n",
       "<table border=\"1\" class=\"dataframe\">\n",
       "  <thead>\n",
       "    <tr style=\"text-align: right;\">\n",
       "      <th></th>\n",
       "      <th>salary($)</th>\n",
       "    </tr>\n",
       "  </thead>\n",
       "  <tbody>\n",
       "    <tr>\n",
       "      <th>6</th>\n",
       "      <td>72000</td>\n",
       "    </tr>\n",
       "    <tr>\n",
       "      <th>2</th>\n",
       "      <td>60000</td>\n",
       "    </tr>\n",
       "  </tbody>\n",
       "</table>\n",
       "</div>"
      ],
      "text/plain": [
       "   salary($)\n",
       "6      72000\n",
       "2      60000"
      ]
     },
     "execution_count": 138,
     "metadata": {},
     "output_type": "execute_result"
    }
   ],
   "source": [
    "y_test"
   ]
  },
  {
   "cell_type": "code",
   "execution_count": 135,
   "id": "554997a0-5210-4a45-b308-775581b69a86",
   "metadata": {},
   "outputs": [
    {
     "data": {
      "text/plain": [
       "0.38144470811942055"
      ]
     },
     "execution_count": 135,
     "metadata": {},
     "output_type": "execute_result"
    }
   ],
   "source": [
    "myregobj.score(x_test, y_test)"
   ]
  }
 ],
 "metadata": {
  "kernelspec": {
   "display_name": "Python 3 (ipykernel)",
   "language": "python",
   "name": "python3"
  },
  "language_info": {
   "codemirror_mode": {
    "name": "ipython",
    "version": 3
   },
   "file_extension": ".py",
   "mimetype": "text/x-python",
   "name": "python",
   "nbconvert_exporter": "python",
   "pygments_lexer": "ipython3",
   "version": "3.10.6"
  }
 },
 "nbformat": 4,
 "nbformat_minor": 5
}
