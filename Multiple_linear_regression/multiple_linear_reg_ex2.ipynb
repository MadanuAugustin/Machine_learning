{
 "cells": [
  {
   "cell_type": "code",
   "execution_count": 56,
   "id": "0334810a-5f4e-452e-a8f1-da7be267f28c",
   "metadata": {},
   "outputs": [
    {
     "data": {
      "text/plain": [
       "array([[608500.],\n",
       "       [554875.]])"
      ]
     },
     "execution_count": 56,
     "metadata": {},
     "output_type": "execute_result"
    }
   ],
   "source": [
    "# multiple linear regression ex_2\n",
    "\n",
    "# importing the libraries\n",
    "import numpy as np\n",
    "import pandas as pd\n",
    "import matplotlib.pyplot as plt\n",
    "from sklearn import linear_model, preprocessing, model_selection\n",
    "\n",
    "# loading the dataset\n",
    "mydataset = pd.read_csv('homeprices.csv')\n",
    "mydataset\n",
    "\n",
    "# preprocessing the data\n",
    "mydataset.bedrooms.fillna(mydataset.bedrooms.median(), inplace = True)\n",
    "mydataset\n",
    "\n",
    "# checking the distribution of the data\n",
    "# plt.scatter(mydataset.area, mydataset.price)\n",
    "# plt.scatter(mydataset.bedrooms, mydataset.price)\n",
    "# plt.scatter(mydataset.age, mydataset.price)\n",
    "\n",
    "\n",
    "# extracting the dependent_variable and independent_variables\n",
    "dependent_variable = mydataset.iloc[ : , 3:]\n",
    "dependent_variable\n",
    "\n",
    "independent_variable = mydataset.iloc[ : , : 3]\n",
    "independent_variable\n",
    "\n",
    "# splitting the data into training set and testing set\n",
    "x_train, x_test, y_train, y_test = model_selection.train_test_split(independent_variable, dependent_variable, test_size = 0.2, random_state=0)\n",
    "\n",
    "# creating the model\n",
    "myregmodel = linear_model.LinearRegression()\n",
    "myregmodel\n",
    "\n",
    "# training the model\n",
    "myregmodel.fit(x_train, y_train)\n",
    "myregmodel.predict(x_test)\n",
    "\n"
   ]
  },
  {
   "cell_type": "code",
   "execution_count": 48,
   "id": "49806be3-3ef8-41c8-88c2-018dcba9332b",
   "metadata": {},
   "outputs": [
    {
     "data": {
      "text/plain": [
       "-1.1820507812499903"
      ]
     },
     "execution_count": 48,
     "metadata": {},
     "output_type": "execute_result"
    }
   ],
   "source": [
    "myregmodel.score(x_test, y_test)"
   ]
  }
 ],
 "metadata": {
  "kernelspec": {
   "display_name": "Python 3 (ipykernel)",
   "language": "python",
   "name": "python3"
  },
  "language_info": {
   "codemirror_mode": {
    "name": "ipython",
    "version": 3
   },
   "file_extension": ".py",
   "mimetype": "text/x-python",
   "name": "python",
   "nbconvert_exporter": "python",
   "pygments_lexer": "ipython3",
   "version": "3.10.6"
  }
 },
 "nbformat": 4,
 "nbformat_minor": 5
}
